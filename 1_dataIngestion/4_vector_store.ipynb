{
 "cells": [
  {
   "cell_type": "markdown",
   "metadata": {},
   "source": [
    "- FAISS\n",
    "- Chroma DB\n",
    "- Astra DB"
   ]
  },
  {
   "cell_type": "code",
   "execution_count": 5,
   "metadata": {},
   "outputs": [],
   "source": [
    "from langchain_community.document_loaders import TextLoader\n",
    "from langchain_community.vectorstores import FAISS\n",
    "from langchain_community.embeddings import OllamaEmbeddings\n",
    "from langchain_text_splitters import CharacterTextSplitter"
   ]
  },
  {
   "cell_type": "code",
   "execution_count": 6,
   "metadata": {},
   "outputs": [
    {
     "name": "stderr",
     "output_type": "stream",
     "text": [
      "Created a chunk of size 470, which is longer than the specified 200\n",
      "Created a chunk of size 347, which is longer than the specified 200\n",
      "Created a chunk of size 668, which is longer than the specified 200\n",
      "Created a chunk of size 982, which is longer than the specified 200\n",
      "Created a chunk of size 789, which is longer than the specified 200\n",
      "Created a chunk of size 355, which is longer than the specified 200\n"
     ]
    }
   ],
   "source": [
    "loader = TextLoader(\"speech.txt\")\n",
    "document = loader.load()\n",
    "\n",
    "text_splitter = CharacterTextSplitter(chunk_size=200, chunk_overlap=30)\n",
    "texts = text_splitter.split_documents(document)\n",
    "embeddings = OllamaEmbeddings(model=\"gemma2:2b\")\n",
    "\n",
    "db = FAISS.from_documents(texts, embeddings)"
   ]
  },
  {
   "cell_type": "code",
   "execution_count": 7,
   "metadata": {},
   "outputs": [
    {
     "data": {
      "text/plain": [
       "[Document(metadata={'source': 'speech.txt'}, page_content='The world must be made safe for democracy. Its peace must be planted upon the tested foundations of political liberty. We have no selfish ends to serve. We desire no conquest, no dominion. We seek no indemnities for ourselves, no material compensation for the sacrifices we shall freely make. We are but one of the champions of the rights of mankind. We shall be satisfied when those rights have been made as secure as the faith and the freedom of nations can make them.'),\n",
       " Document(metadata={'source': 'speech.txt'}, page_content=\"Here are some sets of questions across various categories:\\nGeneral Knowledge\\nWhat is the capital of France?\\nWho is the CEO of Tesla?\\nWhat is the largest planet in our solar system?\\nWho painted the Mona Lisa?\\nWhat is the chemical symbol for gold?\\nTechnology\\nWhat is the difference between HTTP and HTTPS?\\nWhat is the latest version of Python?\\nHow does blockchain technology work?\\nWhat is the purpose of DNS?\\nWhat is the difference between RAM and ROM?\\nScience\\nWhat is the process of photosynthesis?\\nWho discovered gravity?\\nWhat is the water cycle?\\nWhat is the largest living species of lizard?\\nWhat is the scientific term for the study of the universe?\\nHistory\\nWho was the first president of the United States?\\nWhat event occurred on July 4, 1776?\\nWho led the Soviet Union during World War II?\\nWhat was the name of the first permanent English settlement in North America?\\nWho was the Roman Emperor when the Roman Empire fell?\\nMath\\nWhat is the value of pi?\\nHow do you calculate the area of a triangle?\\nWhat is the Pythagorean theorem?\\nWhat is the difference between exponential and linear growth?\\nHow do you solve a quadratic equation?\\nLogic and Reasoning\\nWhat is the difference between inductive and deductive reasoning?\\nHow do you solve a logical puzzle?\\nWhat is the concept of Occam's Razor?\\nHow do you evaluate evidence?\\nWhat is the difference between a hypothesis and a theory?\\nLet me know if you'd like more questions or specific categories!\"),\n",
       " Document(metadata={'source': 'speech.txt'}, page_content='To such a task we can dedicate our lives and our fortunes, everything that we are and everything that we have, with the pride of those who know that the day has come when America is privileged to spend her blood and her might for the principles that gave her birth and happiness and the peace which she has treasured. God helping her, she can do no other.'),\n",
       " Document(metadata={'source': 'speech.txt'}, page_content='It will be all the easier for us to conduct ourselves as belligerents in a high spirit of right and fairness because we act without animus, not in enmity toward a people or with the desire to bring any injury or disadvantage upon them, but only in armed opposition to an irresponsible government which has thrown aside all considerations of humanity and of right and is running amuck. We are, let me say again, the sincere friends of the German people, and shall desire nothing so much as the early reestablishment of intimate relations of mutual advantage between us—however hard it may be for them, for the time being, to believe that this is spoken from our hearts.')]"
      ]
     },
     "execution_count": 7,
     "metadata": {},
     "output_type": "execute_result"
    }
   ],
   "source": [
    "query = \"What is the difference between HTTP and HTTPS?\"\n",
    "\n",
    "docs = db.similarity_search(query)\n",
    "docs"
   ]
  },
  {
   "cell_type": "code",
   "execution_count": 8,
   "metadata": {},
   "outputs": [
    {
     "name": "stderr",
     "output_type": "stream",
     "text": [
      "/var/folders/fq/21nt5n9d46bgh23zzhvzdgk00000gn/T/ipykernel_38223/2506103057.py:2: LangChainDeprecationWarning: The method `BaseRetriever.get_relevant_documents` was deprecated in langchain-core 0.1.46 and will be removed in 1.0. Use invoke instead.\n",
      "  retriever.get_relevant_documents(query)\n"
     ]
    },
    {
     "data": {
      "text/plain": [
       "[Document(metadata={'source': 'speech.txt'}, page_content='The world must be made safe for democracy. Its peace must be planted upon the tested foundations of political liberty. We have no selfish ends to serve. We desire no conquest, no dominion. We seek no indemnities for ourselves, no material compensation for the sacrifices we shall freely make. We are but one of the champions of the rights of mankind. We shall be satisfied when those rights have been made as secure as the faith and the freedom of nations can make them.'),\n",
       " Document(metadata={'source': 'speech.txt'}, page_content=\"Here are some sets of questions across various categories:\\nGeneral Knowledge\\nWhat is the capital of France?\\nWho is the CEO of Tesla?\\nWhat is the largest planet in our solar system?\\nWho painted the Mona Lisa?\\nWhat is the chemical symbol for gold?\\nTechnology\\nWhat is the difference between HTTP and HTTPS?\\nWhat is the latest version of Python?\\nHow does blockchain technology work?\\nWhat is the purpose of DNS?\\nWhat is the difference between RAM and ROM?\\nScience\\nWhat is the process of photosynthesis?\\nWho discovered gravity?\\nWhat is the water cycle?\\nWhat is the largest living species of lizard?\\nWhat is the scientific term for the study of the universe?\\nHistory\\nWho was the first president of the United States?\\nWhat event occurred on July 4, 1776?\\nWho led the Soviet Union during World War II?\\nWhat was the name of the first permanent English settlement in North America?\\nWho was the Roman Emperor when the Roman Empire fell?\\nMath\\nWhat is the value of pi?\\nHow do you calculate the area of a triangle?\\nWhat is the Pythagorean theorem?\\nWhat is the difference between exponential and linear growth?\\nHow do you solve a quadratic equation?\\nLogic and Reasoning\\nWhat is the difference between inductive and deductive reasoning?\\nHow do you solve a logical puzzle?\\nWhat is the concept of Occam's Razor?\\nHow do you evaluate evidence?\\nWhat is the difference between a hypothesis and a theory?\\nLet me know if you'd like more questions or specific categories!\"),\n",
       " Document(metadata={'source': 'speech.txt'}, page_content='To such a task we can dedicate our lives and our fortunes, everything that we are and everything that we have, with the pride of those who know that the day has come when America is privileged to spend her blood and her might for the principles that gave her birth and happiness and the peace which she has treasured. God helping her, she can do no other.'),\n",
       " Document(metadata={'source': 'speech.txt'}, page_content='It will be all the easier for us to conduct ourselves as belligerents in a high spirit of right and fairness because we act without animus, not in enmity toward a people or with the desire to bring any injury or disadvantage upon them, but only in armed opposition to an irresponsible government which has thrown aside all considerations of humanity and of right and is running amuck. We are, let me say again, the sincere friends of the German people, and shall desire nothing so much as the early reestablishment of intimate relations of mutual advantage between us—however hard it may be for them, for the time being, to believe that this is spoken from our hearts.')]"
      ]
     },
     "execution_count": 8,
     "metadata": {},
     "output_type": "execute_result"
    }
   ],
   "source": [
    "retriever = db.as_retriever()\n",
    "retriever.get_relevant_documents(query)"
   ]
  },
  {
   "cell_type": "code",
   "execution_count": 11,
   "metadata": {},
   "outputs": [
    {
     "data": {
      "text/plain": [
       "[(Document(metadata={'source': 'speech.txt'}, page_content='The world must be made safe for democracy. Its peace must be planted upon the tested foundations of political liberty. We have no selfish ends to serve. We desire no conquest, no dominion. We seek no indemnities for ourselves, no material compensation for the sacrifices we shall freely make. We are but one of the champions of the rights of mankind. We shall be satisfied when those rights have been made as secure as the faith and the freedom of nations can make them.'),\n",
       "  7856.5034),\n",
       " (Document(metadata={'source': 'speech.txt'}, page_content=\"Here are some sets of questions across various categories:\\nGeneral Knowledge\\nWhat is the capital of France?\\nWho is the CEO of Tesla?\\nWhat is the largest planet in our solar system?\\nWho painted the Mona Lisa?\\nWhat is the chemical symbol for gold?\\nTechnology\\nWhat is the difference between HTTP and HTTPS?\\nWhat is the latest version of Python?\\nHow does blockchain technology work?\\nWhat is the purpose of DNS?\\nWhat is the difference between RAM and ROM?\\nScience\\nWhat is the process of photosynthesis?\\nWho discovered gravity?\\nWhat is the water cycle?\\nWhat is the largest living species of lizard?\\nWhat is the scientific term for the study of the universe?\\nHistory\\nWho was the first president of the United States?\\nWhat event occurred on July 4, 1776?\\nWho led the Soviet Union during World War II?\\nWhat was the name of the first permanent English settlement in North America?\\nWho was the Roman Emperor when the Roman Empire fell?\\nMath\\nWhat is the value of pi?\\nHow do you calculate the area of a triangle?\\nWhat is the Pythagorean theorem?\\nWhat is the difference between exponential and linear growth?\\nHow do you solve a quadratic equation?\\nLogic and Reasoning\\nWhat is the difference between inductive and deductive reasoning?\\nHow do you solve a logical puzzle?\\nWhat is the concept of Occam's Razor?\\nHow do you evaluate evidence?\\nWhat is the difference between a hypothesis and a theory?\\nLet me know if you'd like more questions or specific categories!\"),\n",
       "  9454.314),\n",
       " (Document(metadata={'source': 'speech.txt'}, page_content='To such a task we can dedicate our lives and our fortunes, everything that we are and everything that we have, with the pride of those who know that the day has come when America is privileged to spend her blood and her might for the principles that gave her birth and happiness and the peace which she has treasured. God helping her, she can do no other.'),\n",
       "  9846.433),\n",
       " (Document(metadata={'source': 'speech.txt'}, page_content='It will be all the easier for us to conduct ourselves as belligerents in a high spirit of right and fairness because we act without animus, not in enmity toward a people or with the desire to bring any injury or disadvantage upon them, but only in armed opposition to an irresponsible government which has thrown aside all considerations of humanity and of right and is running amuck. We are, let me say again, the sincere friends of the German people, and shall desire nothing so much as the early reestablishment of intimate relations of mutual advantage between us—however hard it may be for them, for the time being, to believe that this is spoken from our hearts.'),\n",
       "  10112.585)]"
      ]
     },
     "execution_count": 11,
     "metadata": {},
     "output_type": "execute_result"
    }
   ],
   "source": [
    "db.similarity_search_with_score(query)"
   ]
  },
  {
   "cell_type": "code",
   "execution_count": 12,
   "metadata": {},
   "outputs": [],
   "source": [
    "embeddings_vector = embeddings.embed_query(query)\n",
    "docs = db.similarity_search_by_vector(embeddings_vector)"
   ]
  },
  {
   "cell_type": "code",
   "execution_count": 14,
   "metadata": {},
   "outputs": [],
   "source": [
    "db.save_local(\"faiss_index\")"
   ]
  },
  {
   "cell_type": "code",
   "execution_count": 16,
   "metadata": {},
   "outputs": [],
   "source": [
    "new_db = FAISS.load_local(\"faiss_index\", embeddings,allow_dangerous_deserialization=True)"
   ]
  },
  {
   "cell_type": "code",
   "execution_count": 18,
   "metadata": {},
   "outputs": [
    {
     "data": {
      "text/plain": [
       "[Document(metadata={'source': 'speech.txt'}, page_content='The world must be made safe for democracy. Its peace must be planted upon the tested foundations of political liberty. We have no selfish ends to serve. We desire no conquest, no dominion. We seek no indemnities for ourselves, no material compensation for the sacrifices we shall freely make. We are but one of the champions of the rights of mankind. We shall be satisfied when those rights have been made as secure as the faith and the freedom of nations can make them.'),\n",
       " Document(metadata={'source': 'speech.txt'}, page_content=\"Here are some sets of questions across various categories:\\nGeneral Knowledge\\nWhat is the capital of France?\\nWho is the CEO of Tesla?\\nWhat is the largest planet in our solar system?\\nWho painted the Mona Lisa?\\nWhat is the chemical symbol for gold?\\nTechnology\\nWhat is the difference between HTTP and HTTPS?\\nWhat is the latest version of Python?\\nHow does blockchain technology work?\\nWhat is the purpose of DNS?\\nWhat is the difference between RAM and ROM?\\nScience\\nWhat is the process of photosynthesis?\\nWho discovered gravity?\\nWhat is the water cycle?\\nWhat is the largest living species of lizard?\\nWhat is the scientific term for the study of the universe?\\nHistory\\nWho was the first president of the United States?\\nWhat event occurred on July 4, 1776?\\nWho led the Soviet Union during World War II?\\nWhat was the name of the first permanent English settlement in North America?\\nWho was the Roman Emperor when the Roman Empire fell?\\nMath\\nWhat is the value of pi?\\nHow do you calculate the area of a triangle?\\nWhat is the Pythagorean theorem?\\nWhat is the difference between exponential and linear growth?\\nHow do you solve a quadratic equation?\\nLogic and Reasoning\\nWhat is the difference between inductive and deductive reasoning?\\nHow do you solve a logical puzzle?\\nWhat is the concept of Occam's Razor?\\nHow do you evaluate evidence?\\nWhat is the difference between a hypothesis and a theory?\\nLet me know if you'd like more questions or specific categories!\"),\n",
       " Document(metadata={'source': 'speech.txt'}, page_content='To such a task we can dedicate our lives and our fortunes, everything that we are and everything that we have, with the pride of those who know that the day has come when America is privileged to spend her blood and her might for the principles that gave her birth and happiness and the peace which she has treasured. God helping her, she can do no other.'),\n",
       " Document(metadata={'source': 'speech.txt'}, page_content='It will be all the easier for us to conduct ourselves as belligerents in a high spirit of right and fairness because we act without animus, not in enmity toward a people or with the desire to bring any injury or disadvantage upon them, but only in armed opposition to an irresponsible government which has thrown aside all considerations of humanity and of right and is running amuck. We are, let me say again, the sincere friends of the German people, and shall desire nothing so much as the early reestablishment of intimate relations of mutual advantage between us—however hard it may be for them, for the time being, to believe that this is spoken from our hearts.')]"
      ]
     },
     "execution_count": 18,
     "metadata": {},
     "output_type": "execute_result"
    }
   ],
   "source": [
    "new_db.similarity_search(query=query)"
   ]
  },
  {
   "cell_type": "code",
   "execution_count": 19,
   "metadata": {},
   "outputs": [],
   "source": [
    "from langchain_chroma import Chroma\n",
    "from langchain_text_splitters import RecursiveCharacterTextSplitter"
   ]
  },
  {
   "cell_type": "code",
   "execution_count": 21,
   "metadata": {},
   "outputs": [],
   "source": [
    "data = loader.load()\n",
    "\n",
    "text_splitter = RecursiveCharacterTextSplitter(chunk_size=200, chunk_overlap=0)\n",
    "splits = text_splitter.split_documents(document)\n",
    "embeddings = OllamaEmbeddings(model=\"gemma2:2b\")\n",
    "\n",
    "vectorDB = Chroma.from_documents(documents=splits,embedding=embeddings)"
   ]
  },
  {
   "cell_type": "code",
   "execution_count": 23,
   "metadata": {},
   "outputs": [
    {
     "data": {
      "text/plain": [
       "'Who painted the Mona Lisa?\\nWhat is the chemical symbol for gold?\\nTechnology\\nWhat is the difference between HTTP and HTTPS?\\nWhat is the latest version of Python?\\nHow does blockchain technology work?'"
      ]
     },
     "execution_count": 23,
     "metadata": {},
     "output_type": "execute_result"
    }
   ],
   "source": [
    "docs = vectorDB.similarity_search(query)\n",
    "docs[0].page_content"
   ]
  },
  {
   "cell_type": "code",
   "execution_count": 24,
   "metadata": {},
   "outputs": [],
   "source": [
    "vectorDB = Chroma.from_documents(documents=splits,embedding=embeddings,persist_directory=\"./chroma\")"
   ]
  },
  {
   "cell_type": "code",
   "execution_count": 26,
   "metadata": {},
   "outputs": [],
   "source": [
    "db2 = Chroma(persist_directory=\"./chroma\",embedding_function=embeddings)"
   ]
  },
  {
   "cell_type": "code",
   "execution_count": 27,
   "metadata": {},
   "outputs": [
    {
     "data": {
      "text/plain": [
       "'Who painted the Mona Lisa?\\nWhat is the chemical symbol for gold?\\nTechnology\\nWhat is the difference between HTTP and HTTPS?\\nWhat is the latest version of Python?\\nHow does blockchain technology work?'"
      ]
     },
     "execution_count": 27,
     "metadata": {},
     "output_type": "execute_result"
    }
   ],
   "source": [
    "docs = db2.similarity_search(query)\n",
    "\n",
    "docs[0].page_content"
   ]
  }
 ],
 "metadata": {
  "kernelspec": {
   "display_name": "Python 3",
   "language": "python",
   "name": "python3"
  },
  "language_info": {
   "codemirror_mode": {
    "name": "ipython",
    "version": 3
   },
   "file_extension": ".py",
   "mimetype": "text/x-python",
   "name": "python",
   "nbconvert_exporter": "python",
   "pygments_lexer": "ipython3",
   "version": "3.10.0"
  }
 },
 "nbformat": 4,
 "nbformat_minor": 2
}
