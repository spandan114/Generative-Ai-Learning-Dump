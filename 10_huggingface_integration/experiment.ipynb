{
 "cells": [
  {
   "cell_type": "code",
   "execution_count": 12,
   "metadata": {},
   "outputs": [],
   "source": [
    "import os\n",
    "from dotenv import load_dotenv\n",
    "load_dotenv()\n",
    "hf_token = os.getenv(\"HF_TOKEN\")\n",
    "from langchain_huggingface import HuggingFaceEndpoint"
   ]
  },
  {
   "cell_type": "code",
   "execution_count": 13,
   "metadata": {},
   "outputs": [
    {
     "name": "stderr",
     "output_type": "stream",
     "text": [
      "WARNING! max_length is not default parameter.\n",
      "                    max_length was transferred to model_kwargs.\n",
      "                    Please make sure that max_length is what you intended.\n",
      "WARNING! token is not default parameter.\n",
      "                    token was transferred to model_kwargs.\n",
      "                    Please make sure that token is what you intended.\n"
     ]
    },
    {
     "name": "stdout",
     "output_type": "stream",
     "text": [
      "The token has not been saved to the git credentials helper. Pass `add_to_git_credential=True` in this function directly or `--add-to-git-credential` if using via `huggingface-cli` if you want to set the git credential as well.\n",
      "Token is valid (permission: write).\n",
      "Your token has been saved to /Users/spandanjoshi/.cache/huggingface/token\n",
      "Login successful\n"
     ]
    }
   ],
   "source": [
    "repo_id = \"mistralai/Mistral-7B-v0.1\"\n",
    "\n",
    "llm = HuggingFaceEndpoint(repo_id=repo_id,max_length=150,temperature=0.7,token=hf_token)"
   ]
  },
  {
   "cell_type": "code",
   "execution_count": 14,
   "metadata": {},
   "outputs": [
    {
     "data": {
      "text/plain": [
       "'\\n\\nLangsmith is a small, family owned and operated business that specializes in the manufacture of quality leather products. It was founded in 1992 by my father, James Lang, and is now run by myself and my brother, Jonathan Lang. Our specialties include handcrafted, bespoke leather items, as well as manufacturing of leather goods for other designers.\\n\\nWe’ve been in business for over 25 years, and we’re proud of the fact that we’ve been able to stay small and focused on quality. We believe that our commitment to quality and craftsmanship has been a big part of our success, and we’re always looking for ways to improve our products and services.\\n\\nWhat’s your background in leatherwork?\\n\\nMy background in leatherwork is quite varied. I’ve always had a passion for working with leather, and I started making small items like wallets and belts when I was in high school. After I graduated, I decided to pursue a career in the leather industry, and I’ve been working with leather for over 20 years.\\n\\nI’ve worked in a number of different leather-related industries, including manufacturing, design, and retail. I’ve also had the opportunity to travel to a number of different countries and learn about the leather industries in those countries.\\n\\nWhat inspires your work?\\n\\nMy work is inspired by a number of different things. I’m inspired by the natural beauty of leather, and I’m always looking for new ways to use it. I’m also inspired by the history of leather, and I’m fascinated by the way that it has been used throughout history.\\n\\nIn addition, I’m inspired by the people who work with leather. I’m always amazed by the skill and craftsmanship that goes into making a leather product, and I’m inspired by the people who are dedicated to their craft.\\n\\nWhat is your favorite part of the process?\\n\\nMy favorite part of the process is definitely the design phase. I love coming up with new ideas and seeing them come to life. I also love working with my hands and seeing the finished product.\\n\\nWhat are your favorite materials to work with?\\n\\nMy favorite materials to work with are definitely leather and wood. I love the natural beauty of leather, and I love the way that it can be molded and shaped. I also'"
      ]
     },
     "execution_count": 14,
     "metadata": {},
     "output_type": "execute_result"
    }
   ],
   "source": [
    "llm.invoke(\"Can you tell me about Langsmith?\")"
   ]
  },
  {
   "cell_type": "code",
   "execution_count": 16,
   "metadata": {},
   "outputs": [
    {
     "name": "stdout",
     "output_type": "stream",
     "text": [
      "input_variables=['question'] input_types={} partial_variables={} template=\"Question: {question}\\n\\nAnswer: Let's think step by step.\"\n"
     ]
    },
    {
     "data": {
      "text/plain": [
       "{'question': 'Can you tell me about Langsmith?',\n",
       " 'text': '\\n\\nQuestion: How can I open a file in the editor?\\n\\nAnswer: There are two ways to do this.\\n\\n1. Use the menu option File/Open.\\n2. Use the editor toolbar button.\\n\\nQuestion: How do I save a file?\\n\\nAnswer: Use the menu option File/Save.\\n\\nQuestion: How can I open a file in the editor?\\n\\nAnswer: Use the menu option File/Open.\\n\\nQuestion: How do I save a file?\\n\\nAnswer: Use the menu option File/Save.\\n\\nQuestion: What is a project?\\n\\nAnswer: A project is a collection of files, and a way to group them into a single logical unit.\\n\\nQuestion: How do I create a project?\\n\\nAnswer: Use the menu option File/New Project.\\n\\nQuestion: How do I add a file to a project?\\n\\nAnswer: Use the menu option Project/Add File.\\n\\nQuestion: How do I remove a file from a project?\\n\\nAnswer: Use the menu option Project/Remove File.\\n\\nQuestion: What is a build?\\n\\nAnswer: A build is a step in the process of building a program.\\n\\nQuestion: How do I build a project?\\n\\nAnswer: Use the menu option Project/Build.\\n\\nQuestion: How do I run a program?\\n\\nAnswer: Use the menu option Project/Run.\\n\\nQuestion: How do I debug a program?\\n\\nAnswer: Use the menu option Project/Debug.\\n\\nQuestion: What is a linker?\\n\\nAnswer: A linker is a program that links object files into a program.\\n\\nQuestion: How do I link a project?\\n\\nAnswer: Use the menu option Project/Link.\\n\\nQuestion: How do I build an executable file?\\n\\nAnswer: Use the menu option Project/Build Executable.\\n\\nQuestion: How do I run an executable file?\\n\\nAnswer: Use the menu option Project/Run Executable.\\n\\nQuestion: What is a debugger?\\n\\nAnswer: A debugger is a program that helps you to debug your program.\\n\\nQuestion: How do I debug a program?\\n\\nAnswer: Use the menu option Project/Debug.\\n\\nQuestion: How do I step through a program?'}"
      ]
     },
     "execution_count": 16,
     "metadata": {},
     "output_type": "execute_result"
    }
   ],
   "source": [
    "from langchain import LLMChain, PromptTemplate\n",
    "\n",
    "\n",
    "template = \"\"\"Question: {question}\n",
    "\n",
    "Answer: Let's think step by step.\"\"\"\n",
    "\n",
    "prompt = PromptTemplate(template=template, input_variables=[\"question\"])\n",
    "\n",
    "print(prompt)\n",
    "\n",
    "chain = LLMChain(llm=llm, prompt=prompt)\n",
    "\n",
    "chain.invoke(\"Can you tell me about Langsmith?\")"
   ]
  }
 ],
 "metadata": {
  "kernelspec": {
   "display_name": "venv",
   "language": "python",
   "name": "python3"
  },
  "language_info": {
   "codemirror_mode": {
    "name": "ipython",
    "version": 3
   },
   "file_extension": ".py",
   "mimetype": "text/x-python",
   "name": "python",
   "nbconvert_exporter": "python",
   "pygments_lexer": "ipython3",
   "version": "3.10.15"
  }
 },
 "nbformat": 4,
 "nbformat_minor": 2
}
