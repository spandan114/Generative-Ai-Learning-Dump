{
 "cells": [
  {
   "cell_type": "code",
   "execution_count": 3,
   "metadata": {},
   "outputs": [],
   "source": [
    "from dotenv import load_dotenv\n",
    "import os\n",
    "\n",
    "load_dotenv()\n",
    "open_ai_key = os.getenv(\"OPENAI_API_KEY\")"
   ]
  },
  {
   "cell_type": "code",
   "execution_count": 4,
   "metadata": {},
   "outputs": [],
   "source": [
    "examples = [\n",
    "    {\n",
    "        \"task\": \"Write a humorous poem about an everyday object.\",\n",
    "        \"examples\": [\n",
    "            \"Ode to a Sock\\n\\nOh sock, oh sock, so lost and alone,\\nIn the wash, your mate was gone.\\nYou searched high and low,\\nBut now you're solo.\",\n",
    "            \"Ode to a Pen\\n\\nMighty pen, so fine and bright,\\nYour ink flows smoothly through the night.\\nYou write of love and strife,\\nAnd bring ideas to life.\"\n",
    "        ]\n",
    "    },\n",
    "    {\n",
    "        \"task\": \"Compose a short story about a character who discovers a hidden talent.\",\n",
    "        \"examples\": [\n",
    "            \"Emily discovered her talent for painting at 30.\",\n",
    "            \"David found his voice as a singer in the shower.\"\n",
    "        ]\n",
    "    },\n",
    "    {\n",
    "        \"task\": \"Generate a motivational quote about perseverance.\",\n",
    "        \"examples\": [\n",
    "            \"'Fall seven times, stand up eight.' - Japanese proverb\",\n",
    "            \"'Believe you can and you're halfway there.' - Theodore Roosevelt\"\n",
    "        ]\n",
    "    }\n",
    "]"
   ]
  },
  {
   "cell_type": "code",
   "execution_count": 6,
   "metadata": {},
   "outputs": [],
   "source": [
    "from langchain_openai import OpenAI\n",
    "from langchain import PromptTemplate\n",
    "\n",
    "llm = OpenAI(api_key=open_ai_key)\n",
    "\n",
    "example_prompt = PromptTemplate(\n",
    "    input_variables=[\"task\", \"examples\"],\n",
    "    template=\"{examples}\\nTask: {task}\\n\",\n",
    ")"
   ]
  },
  {
   "cell_type": "code",
   "execution_count": 9,
   "metadata": {},
   "outputs": [
    {
     "data": {
      "text/plain": [
       "'[\"Ode to a Sock\\\\n\\\\nOh sock, oh sock, so lost and alone,\\\\nIn the wash, your mate was gone.\\\\nYou searched high and low,\\\\nBut now you\\'re solo.\", \\'Ode to a Pen\\\\n\\\\nMighty pen, so fine and bright,\\\\nYour ink flows smoothly through the night.\\\\nYou write of love and strife,\\\\nAnd bring ideas to life.\\']\\nTask: Write a humorous poem about an everyday object.\\n'"
      ]
     },
     "execution_count": 9,
     "metadata": {},
     "output_type": "execute_result"
    }
   ],
   "source": [
    "example_prompt.format(**examples[0])\n",
    "#  examples[0]"
   ]
  },
  {
   "cell_type": "code",
   "execution_count": 10,
   "metadata": {},
   "outputs": [
    {
     "data": {
      "text/plain": [
       "'[\"Ode to a Sock\\\\n\\\\nOh sock, oh sock, so lost and alone,\\\\nIn the wash, your mate was gone.\\\\nYou searched high and low,\\\\nBut now you\\'re solo.\", \\'Ode to a Pen\\\\n\\\\nMighty pen, so fine and bright,\\\\nYour ink flows smoothly through the night.\\\\nYou write of love and strife,\\\\nAnd bring ideas to life.\\']\\nTask: Write a humorous poem about an everyday object.\\n\\n\\n[\\'Emily discovered her talent for painting at 30.\\', \\'David found his voice as a singer in the shower.\\']\\nTask: Compose a short story about a character who discovers a hidden talent.\\n\\n\\n[\"\\'Fall seven times, stand up eight.\\' - Japanese proverb\", \"\\'Believe you can and you\\'re halfway there.\\' - Theodore Roosevelt\"]\\nTask: Generate a motivational quote about perseverance.\\n\\n\\nQuestion: Write a humorous poem about a Toast.'"
      ]
     },
     "execution_count": 10,
     "metadata": {},
     "output_type": "execute_result"
    }
   ],
   "source": [
    "from langchain_core.prompts.few_shot import FewShotPromptTemplate\n",
    "\n",
    "prompt = FewShotPromptTemplate(\n",
    "    examples=examples,\n",
    "    example_prompt=example_prompt,\n",
    "    suffix=\"Question: {input}\",\n",
    "    input_variables=[\"input\"],\n",
    ")\n",
    "\n",
    "my_prompt = prompt.format(input=\"Write a humorous poem about a Toast.\")\n",
    "\n",
    "my_prompt\n"
   ]
  },
  {
   "cell_type": "code",
   "execution_count": 11,
   "metadata": {},
   "outputs": [
    {
     "data": {
      "text/plain": [
       "\"\\n\\nOh toast, oh toast, so crispy and brown,\\nYou make my mornings go round and round.\\nWith butter and jam, you're a breakfast delight,\\nBut with burnt edges, you give me a fright.\\n\\nYou pop out of the toaster, all warm and toasty,\\nButter dripping down, you're looking so roasty.\\nI take a big bite, and what do I find?\\nSomehow you've managed to burn just one side.\\n\\nBut I forgive you, oh dear piece of bread,\\nFor you bring me joy, no matter how you're spread.\\nYou're perfect with eggs, or avocado and cheese,\\nEven when you're burnt, you still aim to please.\\n\\nSo here's to you, my trusty old toast,\\nYou make my mornings the most, the most.\\nI'll never give up on you, my morning friend,\\nEven when you're burnt, you'll always make amends.\""
      ]
     },
     "execution_count": 11,
     "metadata": {},
     "output_type": "execute_result"
    }
   ],
   "source": [
    "llm.invoke(my_prompt)"
   ]
  }
 ],
 "metadata": {
  "kernelspec": {
   "display_name": "venv",
   "language": "python",
   "name": "python3"
  },
  "language_info": {
   "codemirror_mode": {
    "name": "ipython",
    "version": 3
   },
   "file_extension": ".py",
   "mimetype": "text/x-python",
   "name": "python",
   "nbconvert_exporter": "python",
   "pygments_lexer": "ipython3",
   "version": "3.10.15"
  }
 },
 "nbformat": 4,
 "nbformat_minor": 2
}
